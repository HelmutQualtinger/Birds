{
 "cells": [
  {
   "cell_type": "markdown",
   "metadata": {},
   "source": [
    "# Using Python for Research Homework: Week 4, Case Study 2\n",
    "\n",
    "In this case study, we will continue taking a look at patterns of flight for each of the three birds in our dataset."
   ]
  },
  {
   "cell_type": "code",
   "execution_count": 1,
   "metadata": {},
   "outputs": [
    {
     "name": "stdout",
     "output_type": "stream",
     "text": [
      "           altitude  device_info_serial     direction      latitude  \\\n",
      "count  61920.000000        61920.000000  61477.000000  61920.000000   \n",
      "mean      52.313275          849.328505     -4.610841     30.227762   \n",
      "std      136.435498           12.835870    102.786009     14.809813   \n",
      "min    -1010.000000          833.000000   -179.997929     12.354424   \n",
      "25%        2.000000          833.000000    -89.679759     15.393138   \n",
      "50%       14.000000          851.000000    -10.983115     30.424481   \n",
      "75%       84.000000          864.000000     81.964778     49.999572   \n",
      "max     6965.000000          864.000000    180.000000     51.518452   \n",
      "\n",
      "          longitude      speed_2d  \n",
      "count  61920.000000  61477.000000  \n",
      "mean      -8.953367      2.558987  \n",
      "std        8.478471      3.576039  \n",
      "min      -17.626145      0.000000  \n",
      "25%      -16.761302      0.410000  \n",
      "50%       -9.662089      1.209049  \n",
      "75%        2.603591      3.059444  \n",
      "max        4.857561     63.488066  \n"
     ]
    }
   ],
   "source": [
    "# DO NOT EDIT THIS CODE\n",
    "import pandas as pd\n",
    "import numpy as np\n",
    "birddata = pd.read_csv(\"https://courses.edx.org/asset-v1:HarvardX+PH526x+2T2019+type@asset+block@bird_tracking.csv\", index_col=0)\n",
    "print(birddata.describe())"
   ]
  },
  {
   "cell_type": "markdown",
   "metadata": {},
   "source": [
    "### Exercise 1\n",
    "\n",
    "In this case study, we will continue taking a look at patterns of flight for each of the three birds in our dataset. We will group the flight patterns by bird and date, and plot the mean altitude for these groupings.\n",
    "\n",
    "`pandas` makes it easy to perform basic operations on groups within a dataframe without needing to loop through each value in the dataframe. In this exercise, we will group the dataframe by `birdname` and then find the average `speed_2d` for each bird.\n",
    "\n",
    "#### Instructions \n",
    "- Fill in the code to find the mean altitudes of each bird using the pre-loaded `birddata` dataframe. "
   ]
  },
  {
   "cell_type": "code",
   "execution_count": 7,
   "metadata": {},
   "outputs": [
    {
     "name": "stdout",
     "output_type": "stream",
     "text": [
      "3\n",
      "bird_name\n",
      "Eric     2.300545\n",
      "Nico     2.908726\n",
      "Sanne    2.450434\n",
      "Name: speed_2d, dtype: float64 bird_name\n",
      "Eric     60.249406\n",
      "Nico     67.900478\n",
      "Sanne    29.159922\n",
      "Name: altitude, dtype: float64\n"
     ]
    }
   ],
   "source": [
    "# First, use `groupby()` to group the data by \"bird_name\".\n",
    "grouped_birds = birddata.groupby(\"bird_name\")\n",
    "print(len(grouped_birds))\n",
    "grouped_birds.head()\n",
    "# Now calculate the mean of `speed_2d` using the `mean()` function.\n",
    "mean_speeds = grouped_birds.speed_2d.mean()\n",
    "\n",
    "\n",
    "# Find the mean `altitude` for each bird.\n",
    "mean_altitudes = grouped_birds.altitude.mean()\n",
    "\n",
    "print (mean_speeds, mean_altitudes)"
   ]
  },
  {
   "cell_type": "markdown",
   "metadata": {},
   "source": [
    "### Exercise 2\n",
    "\n",
    "In this exercise, we will group the flight times by date and calculate the mean altitude within that day.\n",
    "\n",
    "#### Instructions \n",
    "- Convert `birddata.date_time` to the `pd.datetime` format, and store as `birddata[\"date\"]`.\n",
    "- Fill in the code to find the mean altitudes for each day."
   ]
  },
  {
   "cell_type": "code",
   "execution_count": 8,
   "metadata": {},
   "outputs": [
    {
     "name": "stdout",
     "output_type": "stream",
     "text": [
      "[datetime.datetime(2013, 8, 15, 0, 0), datetime.datetime(2013, 8, 15, 0, 0), datetime.datetime(2013, 8, 15, 0, 0), datetime.datetime(2013, 8, 15, 0, 0), datetime.datetime(2013, 8, 15, 0, 0)]\n",
      "259\n",
      "date\n",
      "2013-08-15    134.092000\n",
      "2013-08-16    134.839506\n",
      "2013-08-17    147.439024\n",
      "2013-08-18    129.608163\n",
      "2013-08-19    180.174797\n",
      "                 ...    \n",
      "2013-11-18    153.695279\n",
      "2013-11-19     45.491597\n",
      "2013-11-20     41.600823\n",
      "2013-11-21     36.174797\n",
      "2013-11-22     49.877551\n",
      "Name: altitude, Length: 100, dtype: float64\n"
     ]
    }
   ],
   "source": [
    "# Convert birddata.date_time to the `pd.datetime` format.\n",
    "import datetime as dt\n",
    "ts=[]\n",
    "for i in range(len(birddata)):\n",
    "    ts.append(dt.datetime.strptime(birddata.date_time.iloc[i][0:-12],\"%Y-%m-%d\"))\n",
    "#birddata.date = pd.to_datetime(birddata.date_time)\n",
    "print (ts[0:5])\n",
    "\n",
    "# Create a new column of day of observation\n",
    "birddata[\"date\"] = ts \n",
    "\n",
    "# Use `groupby()` to group the data by date.\n",
    "grouped_bydates = birddata.groupby(\"date\")\n",
    "print (len(grouped_bydates))\n",
    "\n",
    "# Find the mean `altitude` for each date.\n",
    "mean_altitudes_perday = grouped_bydates.altitude.mean()\n",
    "print (mean_altitudes_perday[0:100])\n"
   ]
  },
  {
   "cell_type": "markdown",
   "metadata": {},
   "source": [
    "### Exercise 3\n",
    "\n",
    "In this exercise, we will group the flight times by both bird and date, and calculate the mean altitude for each.\n",
    "\n",
    "#### Instructions \n",
    "- `birddata` already contains the `date` column. To find the average speed for each bird and day, create a new grouped dataframe called `grouped_birdday` that groups the data by both `bird_name` and date."
   ]
  },
  {
   "cell_type": "code",
   "execution_count": 9,
   "metadata": {},
   "outputs": [
    {
     "name": "stdout",
     "output_type": "stream",
     "text": [
      "date        bird_name\n",
      "2013-08-15  Eric          74.988095\n",
      "            Nico         222.421687\n",
      "            Sanne        105.578313\n",
      "2013-08-16  Eric         127.773810\n",
      "            Nico         181.740741\n",
      "            Sanne         93.743590\n",
      "2013-08-17  Eric         125.890244\n",
      "            Nico         216.595238\n",
      "            Sanne         96.912500\n",
      "2013-08-18  Eric         121.353659\n",
      "            Nico         166.409639\n",
      "            Sanne         99.887500\n",
      "2013-08-19  Eric         134.928571\n",
      "            Nico         291.679012\n",
      "            Sanne        115.592593\n",
      "2013-08-20  Eric         101.792683\n",
      "            Nico         345.951220\n",
      "            Sanne        104.666667\n",
      "2013-08-21  Eric         160.518072\n",
      "            Nico         198.095238\n",
      "Name: altitude, dtype: float64\n"
     ]
    }
   ],
   "source": [
    "# Use `groupby()` to group the data by bird and date.\n",
    "grouped_birdname = birddata.groupby([\"date\",\"bird_name\"])\n",
    "#print(grouped_birdname)\n",
    "# Find the mean `altitude` for each bird and date.\n",
    "mean_altitudes_perday = grouped_birdname.altitude.mean()\n",
    "print(mean_altitudes_perday[0:20])"
   ]
  },
  {
   "cell_type": "markdown",
   "metadata": {},
   "source": [
    "### Exercise 4\n",
    "\n",
    "Great! Now find the average speed for each bird and day.\n",
    "\n",
    "#### Instructions \n",
    "\n",
    "- Store these are three `pandas` `Series` objects, one for each bird.\n",
    "- Use the plotting code provided to plot the average speeds for each bird."
   ]
  },
  {
   "cell_type": "code",
   "execution_count": 2,
   "metadata": {},
   "outputs": [
    {
     "ename": "NameError",
     "evalue": "name 'grouped_birdname' is not defined",
     "output_type": "error",
     "traceback": [
      "\u001b[0;31m---------------------------------------------------------------------------\u001b[0m",
      "\u001b[0;31mNameError\u001b[0m                                 Traceback (most recent call last)",
      "\u001b[0;32m/var/folders/5m/kwl3sbr50_z55bvhzkhpljn80000gn/T/ipykernel_34368/3298148041.py\u001b[0m in \u001b[0;36m<module>\u001b[0;34m\u001b[0m\n\u001b[1;32m      1\u001b[0m \u001b[0;32mimport\u001b[0m \u001b[0mmatplotlib\u001b[0m\u001b[0;34m.\u001b[0m\u001b[0mpyplot\u001b[0m \u001b[0;32mas\u001b[0m \u001b[0mplt\u001b[0m\u001b[0;34m\u001b[0m\u001b[0;34m\u001b[0m\u001b[0m\n\u001b[1;32m      2\u001b[0m \u001b[0;34m\u001b[0m\u001b[0m\n\u001b[0;32m----> 3\u001b[0;31m \u001b[0meric_daily_speed\u001b[0m  \u001b[0;34m=\u001b[0m \u001b[0mgrouped_birdname\u001b[0m\u001b[0;34m.\u001b[0m\u001b[0mspeed_2d\u001b[0m\u001b[0;34m.\u001b[0m\u001b[0mmean\u001b[0m\u001b[0;34m(\u001b[0m\u001b[0;34m)\u001b[0m\u001b[0;34m[\u001b[0m\u001b[0;34m\"Eric\"\u001b[0m\u001b[0;34m]\u001b[0m\u001b[0;34m\u001b[0m\u001b[0;34m\u001b[0m\u001b[0m\n\u001b[0m\u001b[1;32m      4\u001b[0m \u001b[0mprint\u001b[0m\u001b[0;34m(\u001b[0m\u001b[0meric_daily_speed\u001b[0m\u001b[0;34m)\u001b[0m\u001b[0;34m\u001b[0m\u001b[0;34m\u001b[0m\u001b[0m\n\u001b[1;32m      5\u001b[0m \u001b[0msanne_daily_speed\u001b[0m  \u001b[0;34m=\u001b[0m \u001b[0mgrouped_birdname\u001b[0m\u001b[0;34m.\u001b[0m\u001b[0mspeed_2d\u001b[0m\u001b[0;34m.\u001b[0m\u001b[0mmean\u001b[0m\u001b[0;34m(\u001b[0m\u001b[0;34m)\u001b[0m\u001b[0;34m[\u001b[0m\u001b[0;34m\"Sanne\"\u001b[0m\u001b[0;34m]\u001b[0m\u001b[0;34m\u001b[0m\u001b[0;34m\u001b[0m\u001b[0m\n",
      "\u001b[0;31mNameError\u001b[0m: name 'grouped_birdname' is not defined"
     ]
    }
   ],
   "source": [
    "import matplotlib.pyplot as plt\n",
    "\n",
    "eric_daily_speed  = grouped_birdname.speed_2d.mean()[\"Eric\"]\n",
    "print(eric_daily_speed)\n",
    "sanne_daily_speed  = grouped_birdname.speed_2d.mean()[\"Sanne\"]\n",
    "print(sanne_daily_speed)\n",
    "nico_daily_speed  = grouped_birdname.speed_2d.mean()[\"Nico\"]\n",
    "print(nico_daily_speed)\n",
    "#sanne_daily_speed = grouped_birdname.speed_2d[name==\"Sanne\"].mean()\n",
    "#nico_daily_speed  = grouped_birdname.speed_2d[name==\"Nico\"].mean()\n",
    "plt.figure(figsize=(16,12))\n",
    "eric_daily_speed.plot(label=\"Eric\")\n",
    "sanne_daily_speed.plot(label=\"Sanne\")\n",
    "nico_daily_speed.plot(label=\"Nico\")\n",
    "plt.legend(loc=\"upper left\")\n",
    "plt.show()"
   ]
  },
  {
   "cell_type": "code",
   "execution_count": null,
   "metadata": {},
   "outputs": [],
   "source": []
  },
  {
   "cell_type": "code",
   "execution_count": null,
   "metadata": {},
   "outputs": [],
   "source": []
  },
  {
   "cell_type": "code",
   "execution_count": null,
   "metadata": {},
   "outputs": [],
   "source": []
  }
 ],
 "metadata": {
  "kernelspec": {
   "display_name": "Python 3 (ipykernel)",
   "language": "python",
   "name": "python3"
  },
  "language_info": {
   "codemirror_mode": {
    "name": "ipython",
    "version": 3
   },
   "file_extension": ".py",
   "mimetype": "text/x-python",
   "name": "python",
   "nbconvert_exporter": "python",
   "pygments_lexer": "ipython3",
   "version": "3.9.7"
  }
 },
 "nbformat": 4,
 "nbformat_minor": 2
}
